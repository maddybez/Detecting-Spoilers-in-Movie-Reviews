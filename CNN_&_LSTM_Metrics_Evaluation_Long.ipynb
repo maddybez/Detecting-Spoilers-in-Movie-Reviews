{
  "nbformat": 4,
  "nbformat_minor": 0,
  "metadata": {
    "colab": {
      "name": "CNN & LSTM Metrics Evaluation Long.ipynb",
      "provenance": [],
      "collapsed_sections": []
    },
    "kernelspec": {
      "name": "python3",
      "display_name": "Python 3"
    },
    "language_info": {
      "name": "python"
    }
  },
  "cells": [
    {
      "cell_type": "code",
      "metadata": {
        "id": "98KOQ5hV_bWj",
        "colab": {
          "base_uri": "https://localhost:8080/"
        },
        "outputId": "c2a0ce19-aea0-4d9f-a8a1-9454d9ba4596"
      },
      "source": [
        "import numpy as np\n",
        "import pandas as pd\n",
        "import seaborn as sns\n",
        "import matplotlib.pyplot as plt\n",
        "from sklearn.model_selection import train_test_split\n",
        "from sklearn.model_selection import KFold\n",
        "from sklearn.preprocessing import LabelEncoder\n",
        "from sklearn.linear_model import LogisticRegression\n",
        "from sklearn.metrics import RocCurveDisplay\n",
        "from sklearn.metrics import accuracy_score, f1_score, roc_auc_score, log_loss, confusion_matrix, classification_report, roc_curve, auc, precision_score, recall_score\n",
        "import gensim\n",
        "from gensim.models import word2vec, KeyedVectors\n",
        "from gensim.test.utils import common_texts\n",
        "from google.colab import drive\n",
        "from os import listdir\n",
        "from os.path import isfile, join\n",
        "drive.mount('/drive')"
      ],
      "execution_count": null,
      "outputs": [
        {
          "output_type": "stream",
          "name": "stdout",
          "text": [
            "Mounted at /drive\n"
          ]
        }
      ]
    },
    {
      "cell_type": "code",
      "metadata": {
        "id": "SR8hWOBBAnGS"
      },
      "source": [
        "#eval = pd.read_csv(\"/drive/MyDrive/Colab Notebooks/CS3244 Machine Learning/CS3244 Group Project/Test_data/Eval/Eval_Short_Sample0.csv\")"
      ],
      "execution_count": null,
      "outputs": []
    },
    {
      "cell_type": "code",
      "metadata": {
        "id": "Er8j3Eopd9EI"
      },
      "source": [
        "data_type = \"Long\" #Short, Med, Long, All\n",
        "d = {}\n",
        "for sample in range(0,5): # should be (0,5)\n",
        "  d[sample] = {}\n",
        "  data = pd.read_csv(\"/drive/MyDrive/Colab Notebooks/CS3244 Machine Learning/CS3244 Group Project/NN folder/Eval/Eval_\"+data_type+\"_Sample\"+str(sample)+\".csv\")\n",
        "  y_test = data[\"is_spoiler\"].tolist()\n",
        "  for model in range(2, len(data.columns)): #models\n",
        "    colname = data.columns[model]\n",
        "    d[sample][colname] = {} #model name\n",
        "    y_pred = data.iloc[:, model].tolist()\n",
        "    d[sample][colname][\"Accuracy\"] = round(accuracy_score(y_test, y_pred),4)\n",
        "    d[sample][colname][\"Precision\"] = round(precision_score(y_test, y_pred),4)\n",
        "    d[sample][colname]['Sensitivity'] = round(recall_score(y_test, y_pred),4)\n",
        "    d[sample][colname]['F1-Score'] = round(f1_score(y_test, y_pred),4)\n",
        "    d[sample][colname]['AUC'] = round(roc_auc_score(y_test, y_pred),4)\n",
        "    d[sample][colname]['Log Loss'] = round(log_loss(y_test, y_pred),4)\n",
        "\n"
      ],
      "execution_count": null,
      "outputs": []
    },
    {
      "cell_type": "code",
      "metadata": {
        "id": "OAdxF2hijgHJ"
      },
      "source": [
        "#Short & Med Data\n",
        "#models = [\"cnn(down_sample,w2v,64node)\", \"lstm(down_sample,w2v,64node)\", \"cnn(up_sample,w2v,64node)\", \"lstm(up_sample,w2v,64node)\", \"CNN(no_sampling,w2v)\",\"lstm(no_sampling,w2v,64node)\"]\n",
        "#metrics = [\"Accuracy\", \"Precision\", \"Sensitivity\", \"F1-Score\", \"AUC\", \"Log Loss\"]\n",
        "\n",
        "#Long Data\n",
        "models = [\"CNN(no_sampling,w2v)\",\"lstm(no_sampling,w2v,64node)\"]\n",
        "metrics = [\"Accuracy\", \"Precision\", \"Sensitivity\", \"F1-Score\", \"AUC\", \"Log Loss\"]"
      ],
      "execution_count": null,
      "outputs": []
    },
    {
      "cell_type": "code",
      "metadata": {
        "id": "k9k8g8wAjrdj"
      },
      "source": [
        "average_values = {}\n",
        "\n",
        "for model in models:\n",
        "  average_values[model] = {}\n",
        "  #add more metrics\n",
        "  accuracy = 0\n",
        "  precision = 0\n",
        "  sensitivity = 0\n",
        "  f1_score = 0\n",
        "  AUC = 0\n",
        "  log_loss = 0\n",
        "\n",
        "  for sample in range(0, 5): # should be (0,5)\n",
        "    if model in d[sample]:\n",
        "      accuracy += d[sample][model][\"Accuracy\"]\n",
        "      precision += d[sample][model][\"Precision\"]\n",
        "      sensitivity += d[sample][model][\"Sensitivity\"]\n",
        "      f1_score += d[sample][model][\"F1-Score\"]\n",
        "      AUC += d[sample][model][\"AUC\"]\n",
        "      log_loss += d[sample][model][\"Log Loss\"]\n",
        "\n",
        "    average_values[model][\"Accuracy\"] = accuracy/5\n",
        "    average_values[model][\"Precision\"] = precision/5\n",
        "    average_values[model][\"Sensitivity\"] = sensitivity/5\n",
        "    average_values[model][\"F1-Score\"] = f1_score/5\n",
        "    average_values[model][\"AUC\"] = AUC/5\n",
        "    average_values[model][\"Log Loss\"] = log_loss/5  \n",
        "    print(\"Accuracy for Model \"+str(model)+\" : \", accuracy/5) #5 not 2\n",
        "    print(\"Precision for Model \"+str(model)+\" : \", precision/5) #5 not 2\n",
        "    print(\"Sensitivity for Model \"+str(model)+\" : \", sensitivity/5) #5 not 2\n",
        "    print(\"F1-score for Model \"+str(model)+\" : \", f1_score/5) #5 not 2\n",
        "    print(\"AUC for Model \"+str(model)+\" : \", AUC/5) #5 not 2\n",
        "    print(\"Log Loss for Model \" +str(model)+\" : \", log_loss/5) #5 not 2\n"
      ],
      "execution_count": null,
      "outputs": []
    },
    {
      "cell_type": "code",
      "metadata": {
        "id": "vZRGzgA1OyL1",
        "colab": {
          "base_uri": "https://localhost:8080/",
          "height": 238
        },
        "outputId": "7fc57229-61a6-4d4f-8856-d10c0c95945f"
      },
      "source": [
        "all_models = pd.DataFrame(average_values)\n",
        "#all_models.to_csv(\"/drive/MyDrive/Colab Notebooks/CS3244 Machine Learning/CS3244 Group Project/NN folder/Metrics/Metrics_\"+data_type+\".csv\")\n",
        "all_models\n"
      ],
      "execution_count": null,
      "outputs": [
        {
          "output_type": "execute_result",
          "data": {
            "text/html": [
              "<div>\n",
              "<style scoped>\n",
              "    .dataframe tbody tr th:only-of-type {\n",
              "        vertical-align: middle;\n",
              "    }\n",
              "\n",
              "    .dataframe tbody tr th {\n",
              "        vertical-align: top;\n",
              "    }\n",
              "\n",
              "    .dataframe thead th {\n",
              "        text-align: right;\n",
              "    }\n",
              "</style>\n",
              "<table border=\"1\" class=\"dataframe\">\n",
              "  <thead>\n",
              "    <tr style=\"text-align: right;\">\n",
              "      <th></th>\n",
              "      <th>CNN(no_sampling,w2v)</th>\n",
              "      <th>lstm(no_sampling,w2v,64node)</th>\n",
              "    </tr>\n",
              "  </thead>\n",
              "  <tbody>\n",
              "    <tr>\n",
              "      <th>Accuracy</th>\n",
              "      <td>0.68110</td>\n",
              "      <td>0.68134</td>\n",
              "    </tr>\n",
              "    <tr>\n",
              "      <th>Precision</th>\n",
              "      <td>0.66526</td>\n",
              "      <td>0.65672</td>\n",
              "    </tr>\n",
              "    <tr>\n",
              "      <th>Sensitivity</th>\n",
              "      <td>0.50200</td>\n",
              "      <td>0.52430</td>\n",
              "    </tr>\n",
              "    <tr>\n",
              "      <th>F1-Score</th>\n",
              "      <td>0.57202</td>\n",
              "      <td>0.58272</td>\n",
              "    </tr>\n",
              "    <tr>\n",
              "      <th>AUC</th>\n",
              "      <td>0.65766</td>\n",
              "      <td>0.66082</td>\n",
              "    </tr>\n",
              "    <tr>\n",
              "      <th>Log Loss</th>\n",
              "      <td>11.01418</td>\n",
              "      <td>11.00580</td>\n",
              "    </tr>\n",
              "  </tbody>\n",
              "</table>\n",
              "</div>"
            ],
            "text/plain": [
              "             CNN(no_sampling,w2v)  lstm(no_sampling,w2v,64node)\n",
              "Accuracy                  0.68110                       0.68134\n",
              "Precision                 0.66526                       0.65672\n",
              "Sensitivity               0.50200                       0.52430\n",
              "F1-Score                  0.57202                       0.58272\n",
              "AUC                       0.65766                       0.66082\n",
              "Log Loss                 11.01418                      11.00580"
            ]
          },
          "metadata": {},
          "execution_count": 6
        }
      ]
    },
    {
      "cell_type": "code",
      "metadata": {
        "id": "5r77EQkQ-J5o"
      },
      "source": [
        "data_type = \"Long\" #Short, Med, Long, All\n",
        "d = {}\n",
        "for sample in range(0,5): # should be (0,5)\n",
        "  d[sample] = {}\n",
        "  data = pd.read_csv(\"/drive/MyDrive/Colab Notebooks/CS3244 Machine Learning/CS3244 Group Project/NN folder/Eval_LSTM+CNN/Eval_\"+data_type+\"_Sample\"+str(sample)+\".csv\")\n",
        "  y_test = data[\"is_spoiler\"].tolist()\n",
        "  for model in range(2, len(data.columns)): #models\n",
        "    colname = data.columns[model]\n",
        "    d[sample][colname] = {} #model name\n",
        "    y_pred = data.iloc[:, model].tolist()\n",
        "    d[sample][colname][\"Accuracy\"] = round(accuracy_score(y_test, y_pred),4)\n",
        "    d[sample][colname][\"Precision\"] = round(precision_score(y_test, y_pred),4)\n",
        "    d[sample][colname]['Sensitivity'] = round(recall_score(y_test, y_pred),4)\n",
        "    d[sample][colname]['F1-Score'] = round(f1_score(y_test, y_pred),4)\n",
        "    d[sample][colname]['AUC'] = round(roc_auc_score(y_test, y_pred),4)\n",
        "    d[sample][colname]['Log Loss'] = round(log_loss(y_test, y_pred),4)"
      ],
      "execution_count": null,
      "outputs": []
    },
    {
      "cell_type": "code",
      "metadata": {
        "id": "26FRbbps-Mjz"
      },
      "source": [
        "#Short & Med Data\n",
        "#models = [\"lstm+cnn(down_sample,w2v,64node)\", \"lstm+cnn(up_sample,w2v,64node)\", \"lstm+cnn(no_sample,w2v,64node)\"]\n",
        "#metrics = [\"Accuracy\", \"Precision\", \"Sensitivity\", \"F1-Score\", \"AUC\", \"Log Loss\"]\n",
        "\n",
        "#Long Data\n",
        "models = [\"lstm+cnn(no_sample,w2v,64node)\"]\n",
        "metrics = [\"Accuracy\", \"Precision\", \"Sensitivity\", \"F1-Score\", \"AUC\", \"Log Loss\"]"
      ],
      "execution_count": null,
      "outputs": []
    },
    {
      "cell_type": "code",
      "metadata": {
        "id": "OKW04sGZ-Ya0"
      },
      "source": [
        "average_values = {}\n",
        "\n",
        "for model in models:\n",
        "  average_values[model] = {}\n",
        "  #add more metrics\n",
        "  accuracy = 0\n",
        "  precision = 0\n",
        "  sensitivity = 0\n",
        "  f1_score = 0\n",
        "  AUC = 0\n",
        "  log_loss = 0\n",
        "\n",
        "  for sample in range(0, 5): # should be (0,5)\n",
        "    if model in d[sample]:\n",
        "      accuracy += d[sample][model][\"Accuracy\"]\n",
        "      precision += d[sample][model][\"Precision\"]\n",
        "      sensitivity += d[sample][model][\"Sensitivity\"]\n",
        "      f1_score += d[sample][model][\"F1-Score\"]\n",
        "      AUC += d[sample][model][\"AUC\"]\n",
        "      log_loss += d[sample][model][\"Log Loss\"]\n",
        "\n",
        "    average_values[model][\"Accuracy\"] = accuracy/5\n",
        "    average_values[model][\"Precision\"] = precision/5\n",
        "    average_values[model][\"Sensitivity\"] = sensitivity/5\n",
        "    average_values[model][\"F1-Score\"] = f1_score/5\n",
        "    average_values[model][\"AUC\"] = AUC/5\n",
        "    average_values[model][\"Log Loss\"] = log_loss/5  \n",
        "    print(\"Accuracy for Model \"+str(model)+\" : \", accuracy/5) #5 not 2\n",
        "    print(\"Precision for Model \"+str(model)+\" : \", precision/5) #5 not 2\n",
        "    print(\"Sensitivity for Model \"+str(model)+\" : \", sensitivity/5) #5 not 2\n",
        "    print(\"F1-score for Model \"+str(model)+\" : \", f1_score/5) #5 not 2\n",
        "    print(\"AUC for Model \"+str(model)+\" : \", AUC/5) #5 not 2\n",
        "    print(\"Log Loss for Model \" +str(model)+\" : \", log_loss/5) #5 not 2"
      ],
      "execution_count": null,
      "outputs": []
    },
    {
      "cell_type": "code",
      "metadata": {
        "colab": {
          "base_uri": "https://localhost:8080/",
          "height": 238
        },
        "id": "nhgxj4J6-aif",
        "outputId": "6f5b92e9-f0af-40ce-9410-97f34d0e8e60"
      },
      "source": [
        "all_models = pd.DataFrame(average_values)\n",
        "all_models.to_csv(\"/drive/MyDrive/Colab Notebooks/CS3244 Machine Learning/CS3244 Group Project/NN folder/Metrics/Metrics_LSTM+CNN/Metrics_\"+data_type+\".csv\")\n",
        "all_models"
      ],
      "execution_count": null,
      "outputs": [
        {
          "output_type": "execute_result",
          "data": {
            "text/html": [
              "<div>\n",
              "<style scoped>\n",
              "    .dataframe tbody tr th:only-of-type {\n",
              "        vertical-align: middle;\n",
              "    }\n",
              "\n",
              "    .dataframe tbody tr th {\n",
              "        vertical-align: top;\n",
              "    }\n",
              "\n",
              "    .dataframe thead th {\n",
              "        text-align: right;\n",
              "    }\n",
              "</style>\n",
              "<table border=\"1\" class=\"dataframe\">\n",
              "  <thead>\n",
              "    <tr style=\"text-align: right;\">\n",
              "      <th></th>\n",
              "      <th>lstm+cnn(no_sample,w2v,64node)</th>\n",
              "    </tr>\n",
              "  </thead>\n",
              "  <tbody>\n",
              "    <tr>\n",
              "      <th>AUC</th>\n",
              "      <td>0.66186</td>\n",
              "    </tr>\n",
              "    <tr>\n",
              "      <th>Accuracy</th>\n",
              "      <td>0.68986</td>\n",
              "    </tr>\n",
              "    <tr>\n",
              "      <th>F1-Score</th>\n",
              "      <td>0.56530</td>\n",
              "    </tr>\n",
              "    <tr>\n",
              "      <th>Log Loss</th>\n",
              "      <td>10.71192</td>\n",
              "    </tr>\n",
              "    <tr>\n",
              "      <th>Precision</th>\n",
              "      <td>0.69846</td>\n",
              "    </tr>\n",
              "    <tr>\n",
              "      <th>Sensitivity</th>\n",
              "      <td>0.47610</td>\n",
              "    </tr>\n",
              "  </tbody>\n",
              "</table>\n",
              "</div>"
            ],
            "text/plain": [
              "             lstm+cnn(no_sample,w2v,64node)\n",
              "AUC                                 0.66186\n",
              "Accuracy                            0.68986\n",
              "F1-Score                            0.56530\n",
              "Log Loss                           10.71192\n",
              "Precision                           0.69846\n",
              "Sensitivity                         0.47610"
            ]
          },
          "metadata": {},
          "execution_count": 6
        }
      ]
    }
  ]
}