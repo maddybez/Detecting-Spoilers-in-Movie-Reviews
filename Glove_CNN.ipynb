{
  "nbformat": 4,
  "nbformat_minor": 0,
  "metadata": {
    "colab": {
      "name": "Glove_CNN.ipynb",
      "provenance": [],
      "collapsed_sections": []
    },
    "kernelspec": {
      "display_name": "Python 3",
      "name": "python3"
    },
    "language_info": {
      "name": "python"
    }
  },
  "cells": [
    {
      "cell_type": "code",
      "metadata": {
        "id": "XAbGtkv_qIjQ"
      },
      "source": [
        "import pandas as pd\n",
        "import numpy as np\n",
        "from google.colab import drive\n",
        "drive.mount('/drive')"
      ],
      "execution_count": null,
      "outputs": []
    },
    {
      "cell_type": "code",
      "metadata": {
        "id": "5fdkoMrMe9_E"
      },
      "source": [
        "from sklearn.model_selection import train_test_split\n",
        "from tensorflow.keras.preprocessing.sequence import pad_sequences\n",
        "from tensorflow.keras.preprocessing.text import one_hot\n",
        "from tensorflow.keras.preprocessing.text import Tokenizer\n",
        "from tensorflow.keras.layers import Dense, Embedding, GlobalMaxPooling1D\n",
        "from tensorflow.keras.models import Sequential\n",
        "from tensorflow.keras.layers import Conv1D\n",
        "from tensorflow.keras.layers import Dropout\n",
        "#from tensorflow.keras.layers import Dense\n",
        "#from tensorflow.keras.layers import Embedding\n",
        "from keras.callbacks import ModelCheckpoint, EarlyStopping"
      ],
      "execution_count": null,
      "outputs": []
    },
    {
      "cell_type": "code",
      "metadata": {
        "id": "kA7q9THkqQHZ"
      },
      "source": [
        "df = pd.read_json('/drive/MyDrive/Colab Notebooks/CS3244 Machine Learning/CS3244 Group Project/Original_data/IMDB_reviews.json', lines = True)"
      ],
      "execution_count": null,
      "outputs": []
    },
    {
      "cell_type": "code",
      "metadata": {
        "colab": {
          "base_uri": "https://localhost:8080/",
          "height": 204
        },
        "id": "UFupltd1q1va",
        "outputId": "cb21fe14-b6f5-421a-a39b-15bbe93663ec"
      },
      "source": [
        "df.head()"
      ],
      "execution_count": null,
      "outputs": [
        {
          "data": {
            "text/html": [
              "<div>\n",
              "<style scoped>\n",
              "    .dataframe tbody tr th:only-of-type {\n",
              "        vertical-align: middle;\n",
              "    }\n",
              "\n",
              "    .dataframe tbody tr th {\n",
              "        vertical-align: top;\n",
              "    }\n",
              "\n",
              "    .dataframe thead th {\n",
              "        text-align: right;\n",
              "    }\n",
              "</style>\n",
              "<table border=\"1\" class=\"dataframe\">\n",
              "  <thead>\n",
              "    <tr style=\"text-align: right;\">\n",
              "      <th></th>\n",
              "      <th>review_date</th>\n",
              "      <th>movie_id</th>\n",
              "      <th>user_id</th>\n",
              "      <th>is_spoiler</th>\n",
              "      <th>review_text</th>\n",
              "      <th>rating</th>\n",
              "      <th>review_summary</th>\n",
              "    </tr>\n",
              "  </thead>\n",
              "  <tbody>\n",
              "    <tr>\n",
              "      <th>0</th>\n",
              "      <td>10 February 2006</td>\n",
              "      <td>tt0111161</td>\n",
              "      <td>ur1898687</td>\n",
              "      <td>True</td>\n",
              "      <td>In its Oscar year, Shawshank Redemption (writt...</td>\n",
              "      <td>10</td>\n",
              "      <td>A classic piece of unforgettable film-making.</td>\n",
              "    </tr>\n",
              "    <tr>\n",
              "      <th>1</th>\n",
              "      <td>6 September 2000</td>\n",
              "      <td>tt0111161</td>\n",
              "      <td>ur0842118</td>\n",
              "      <td>True</td>\n",
              "      <td>The Shawshank Redemption is without a doubt on...</td>\n",
              "      <td>10</td>\n",
              "      <td>Simply amazing. The best film of the 90's.</td>\n",
              "    </tr>\n",
              "    <tr>\n",
              "      <th>2</th>\n",
              "      <td>3 August 2001</td>\n",
              "      <td>tt0111161</td>\n",
              "      <td>ur1285640</td>\n",
              "      <td>True</td>\n",
              "      <td>I believe that this film is the best story eve...</td>\n",
              "      <td>8</td>\n",
              "      <td>The best story ever told on film</td>\n",
              "    </tr>\n",
              "    <tr>\n",
              "      <th>3</th>\n",
              "      <td>1 September 2002</td>\n",
              "      <td>tt0111161</td>\n",
              "      <td>ur1003471</td>\n",
              "      <td>True</td>\n",
              "      <td>**Yes, there are SPOILERS here**This film has ...</td>\n",
              "      <td>10</td>\n",
              "      <td>Busy dying or busy living?</td>\n",
              "    </tr>\n",
              "    <tr>\n",
              "      <th>4</th>\n",
              "      <td>20 May 2004</td>\n",
              "      <td>tt0111161</td>\n",
              "      <td>ur0226855</td>\n",
              "      <td>True</td>\n",
              "      <td>At the heart of this extraordinary movie is a ...</td>\n",
              "      <td>8</td>\n",
              "      <td>Great story, wondrously told and acted</td>\n",
              "    </tr>\n",
              "  </tbody>\n",
              "</table>\n",
              "</div>"
            ],
            "text/plain": [
              "        review_date  ...                                 review_summary\n",
              "0  10 February 2006  ...  A classic piece of unforgettable film-making.\n",
              "1  6 September 2000  ...     Simply amazing. The best film of the 90's.\n",
              "2     3 August 2001  ...               The best story ever told on film\n",
              "3  1 September 2002  ...                     Busy dying or busy living?\n",
              "4       20 May 2004  ...         Great story, wondrously told and acted\n",
              "\n",
              "[5 rows x 7 columns]"
            ]
          },
          "execution_count": 5,
          "metadata": {},
          "output_type": "execute_result"
        }
      ]
    },
    {
      "cell_type": "markdown",
      "metadata": {
        "id": "xrydo6mAnY5T"
      },
      "source": [
        "#Before Word Embedding"
      ]
    },
    {
      "cell_type": "code",
      "metadata": {
        "colab": {
          "base_uri": "https://localhost:8080/"
        },
        "id": "bZxkJ9OIfLJ5",
        "outputId": "3a94441b-1e0b-4f9f-8a3f-1563e8d3014d"
      },
      "source": [
        "df['spoiler'] = df['is_spoiler'].apply(lambda x: 1 if x is True else 0)\n",
        "docs = df['review_text']\n",
        "labels = df['spoiler']\n",
        "X_train, X_test , y_train, y_test = train_test_split(docs, labels , test_size = 0.2, random_state = 0)\n",
        "print (\"Number of training instances: \", len(X_train), \"\\nNumber of test instances: \", len(X_test))"
      ],
      "execution_count": null,
      "outputs": [
        {
          "name": "stdout",
          "output_type": "stream",
          "text": [
            "Number of training instances:  459130 \n",
            "Number of test instances:  114783\n"
          ]
        }
      ]
    },
    {
      "cell_type": "code",
      "metadata": {
        "id": "cgxWBWyvfOS3"
      },
      "source": [
        "#data converted in some numerical representation.\n",
        "vocab_size = 5000\n",
        "X_train = [one_hot(d, vocab_size,filters='!\"#$%&()*+,-./:;<=>?@[\\]^_`{|}~',lower=True, split=' ') for d in X_train]\n",
        "X_test = [one_hot(d, vocab_size,filters='!\"#$%&()*+,-./:;<=>?@[\\]^_`{|}~',lower=True, split=' ') for d in X_test]"
      ],
      "execution_count": null,
      "outputs": []
    },
    {
      "cell_type": "code",
      "metadata": {
        "id": "V7NtXG4PfRZO"
      },
      "source": [
        "# words are of different lengths -> must be of the same length -> forced to be of the same length\n",
        "# make shorter sequences == zeros and drop off some integers on very long sequences\n",
        "\n",
        "max_length = 100 # adjust this until optimal\n",
        "X_train = pad_sequences(X_train, maxlen=max_length, padding='post')\n",
        "X_test = pad_sequences(X_test, maxlen=max_length, padding='post')"
      ],
      "execution_count": null,
      "outputs": []
    },
    {
      "cell_type": "code",
      "metadata": {
        "id": "ZXuOWOG2fVpz"
      },
      "source": [
        "# embedding layer : turns data into dense vectors of fixed size\n",
        "# `Conv1D` with 128 units with the `relu` activation function. \n",
        "# `GlobalMaxPooling1D` layer : downsamples the input by taking the maximum value.\n",
        "# `Dense` layer : 10 units for the fully connected layer.\n",
        "# output layer with the sigmoid activation function because this is a binary problem.\n",
        "'''\n",
        "model = Sequential([Embedding(vocab_size, 8, input_length=max_length), \n",
        "                    Conv1D(128, 5, activation='relu'), \n",
        "                    GlobalMaxPooling1D(), \n",
        "                    Dense(10, activation='relu'), \n",
        "                    Dense(1, activation='sigmoid')])\n",
        "'''\n",
        "model = Sequential()\n",
        "model.add(Embedding(vocab_size, 8, input_length=max_length))\n",
        "model.add(Conv1D(128, 5, activation='relu'))\n",
        "model.add(GlobalMaxPooling1D())\n",
        "model.add(Dense(10, activation='relu'))\n",
        "model.add(Dropout(0.5))\n",
        "model.add(Dense(1, activation='sigmoid'))"
      ],
      "execution_count": null,
      "outputs": []
    },
    {
      "cell_type": "code",
      "metadata": {
        "id": "-MCKcUMdfbSF"
      },
      "source": [
        "model.compile(optimizer='adam', loss='binary_crossentropy', metrics=['acc'])"
      ],
      "execution_count": null,
      "outputs": []
    },
    {
      "cell_type": "code",
      "metadata": {
        "id": "vFsPiYT3Xa3e"
      },
      "source": [
        "es = EarlyStopping(monitor='val_loss', mode='min', verbose=1)"
      ],
      "execution_count": null,
      "outputs": []
    },
    {
      "cell_type": "code",
      "metadata": {
        "colab": {
          "base_uri": "https://localhost:8080/"
        },
        "id": "_LyGpbNGfc4s",
        "outputId": "fea7ebeb-53fa-4da6-ef73-ff1ccbc5a4fd"
      },
      "source": [
        "history = model.fit(X_train, y_train, epochs=20, validation_data=(X_test, y_test), callbacks = [es])"
      ],
      "execution_count": null,
      "outputs": [
        {
          "name": "stdout",
          "output_type": "stream",
          "text": [
            "Epoch 1/20\n",
            "14348/14348 [==============================] - 153s 11ms/step - loss: 0.5503 - acc: 0.7378 - val_loss: 0.5422 - val_acc: 0.7338\n"
          ]
        }
      ]
    },
    {
      "cell_type": "code",
      "metadata": {
        "colab": {
          "base_uri": "https://localhost:8080/"
        },
        "id": "A4xo3KpRfeMO",
        "outputId": "672f9c3d-d737-4e88-d525-29a92829a008"
      },
      "source": [
        "loss, accuracy = model.evaluate(X_test,y_test)\n",
        "print('Testing Accuracy is {} '.format(accuracy*100))"
      ],
      "execution_count": null,
      "outputs": [
        {
          "name": "stdout",
          "output_type": "stream",
          "text": [
            "3587/3587 [==============================] - 13s 4ms/step - loss: 0.5422 - acc: 0.7338\n",
            "Testing Accuracy is 73.3845591545105 \n"
          ]
        }
      ]
    },
    {
      "cell_type": "markdown",
      "metadata": {
        "id": "oGm-HEGFngCz"
      },
      "source": [
        "# With Word Embedding"
      ]
    },
    {
      "cell_type": "code",
      "metadata": {
        "colab": {
          "base_uri": "https://localhost:8080/"
        },
        "id": "iXTZzsS0nmRq",
        "outputId": "ceb55e6f-99c4-44fe-8592-baabcd71ed5a"
      },
      "source": [
        "df['spoiler'] = df['is_spoiler'].apply(lambda x: 1 if x is True else 0)\n",
        "X = df['review_text']\n",
        "y = df['spoiler']\n",
        "from sklearn.model_selection import train_test_split\n",
        "X_train, X_test , y_train, y_test = train_test_split(X, y , test_size = 0.20)\n",
        "print (\"Number of training instances: \", len(X_train), \"\\nNumber of test instances: \", len(X_test))"
      ],
      "execution_count": null,
      "outputs": [
        {
          "name": "stdout",
          "output_type": "stream",
          "text": [
            "Number of training instances:  459130 \n",
            "Number of test instances:  114783\n"
          ]
        }
      ]
    },
    {
      "cell_type": "code",
      "metadata": {
        "id": "rldEwRMSfr4Q"
      },
      "source": [
        "# The maximum number of words that will be used \n",
        "# How words that are not in the vocabulary will be represented i.e defining an `oov_token`\n",
        "# tokenizer : remove punctuation, convert to lower, convert into a numerical representation\n",
        "\n",
        "vocab_size = 5000\n",
        "oov_token = \"<OOV>\"\n",
        "tokenizer = Tokenizer(num_words = vocab_size, oov_token=oov_token)\n",
        "tokenizer.fit_on_texts(X_train)"
      ],
      "execution_count": null,
      "outputs": []
    },
    {
      "cell_type": "code",
      "metadata": {
        "id": "XiJEZvBqftx-"
      },
      "source": [
        "# convert the text to sequences\n",
        "X_train_sequences = tokenizer.texts_to_sequences(X_train)\n",
        "X_test_sequences = tokenizer.texts_to_sequences(X_test)"
      ],
      "execution_count": null,
      "outputs": []
    },
    {
      "cell_type": "code",
      "metadata": {
        "id": "hvYY7Xa8fvFW"
      },
      "source": [
        "# sequences are of different lengths -> must be of the same length -> forced to be of the same length w padding  \n",
        "# maximum length: 100. \n",
        "# `trunction_type` = `post`: longer sentences will be truncated from the end.\n",
        "# `padding_type` = `post` : shorter sentences will be padded with zeros at the end until they reach the required maximum length\n",
        "\n",
        "max_length = 100\n",
        "padding_type = \"post\"\n",
        "trunction_type = \"post\"\n",
        "X_train_padded = pad_sequences(X_train_sequences,maxlen=max_length, padding=padding_type,\n",
        "                       truncating=trunction_type)\n",
        "X_test_padded = pad_sequences(X_test_sequences,maxlen=max_length,\n",
        "                               padding=padding_type, truncating=trunction_type)"
      ],
      "execution_count": null,
      "outputs": []
    },
    {
      "cell_type": "code",
      "metadata": {
        "colab": {
          "base_uri": "https://localhost:8080/"
        },
        "id": "kCRO6-Alfw1D",
        "outputId": "e5787d2f-749b-4e17-9bd2-801d4a74e900"
      },
      "source": [
        "#Download glove\n",
        "!wget --no-check-certificate \\\n",
        "http://nlp.stanford.edu/data/glove.6B.zip \\\n",
        "-O /tmp/glove.6B.zip"
      ],
      "execution_count": null,
      "outputs": [
        {
          "name": "stdout",
          "output_type": "stream",
          "text": [
            "--2021-10-29 01:57:21--  http://nlp.stanford.edu/data/glove.6B.zip\n",
            "Resolving nlp.stanford.edu (nlp.stanford.edu)... 171.64.67.140\n",
            "Connecting to nlp.stanford.edu (nlp.stanford.edu)|171.64.67.140|:80... connected.\n",
            "HTTP request sent, awaiting response... 302 Found\n",
            "Location: https://nlp.stanford.edu/data/glove.6B.zip [following]\n",
            "--2021-10-29 01:57:22--  https://nlp.stanford.edu/data/glove.6B.zip\n",
            "Connecting to nlp.stanford.edu (nlp.stanford.edu)|171.64.67.140|:443... connected.\n",
            "HTTP request sent, awaiting response... 301 Moved Permanently\n",
            "Location: http://downloads.cs.stanford.edu/nlp/data/glove.6B.zip [following]\n",
            "--2021-10-29 01:57:22--  http://downloads.cs.stanford.edu/nlp/data/glove.6B.zip\n",
            "Resolving downloads.cs.stanford.edu (downloads.cs.stanford.edu)... 171.64.64.22\n",
            "Connecting to downloads.cs.stanford.edu (downloads.cs.stanford.edu)|171.64.64.22|:80... connected.\n",
            "HTTP request sent, awaiting response... 200 OK\n",
            "Length: 862182613 (822M) [application/zip]\n",
            "Saving to: ‘/tmp/glove.6B.zip’\n",
            "\n",
            "/tmp/glove.6B.zip   100%[===================>] 822.24M  5.26MB/s    in 2m 40s  \n",
            "\n",
            "2021-10-29 02:00:02 (5.13 MB/s) - ‘/tmp/glove.6B.zip’ saved [862182613/862182613]\n",
            "\n"
          ]
        }
      ]
    },
    {
      "cell_type": "code",
      "metadata": {
        "id": "soLJ3dkCf0P_"
      },
      "source": [
        "#### Change this directory\n",
        "import os\n",
        "import zipfile\n",
        "with zipfile.ZipFile('/tmp/glove.6B.zip', 'r') as zip_ref:\n",
        "    zip_ref.extractall('/tmp/glove')"
      ],
      "execution_count": null,
      "outputs": []
    },
    {
      "cell_type": "code",
      "metadata": {
        "colab": {
          "base_uri": "https://localhost:8080/"
        },
        "id": "SRwe3qluf14M",
        "outputId": "b71605ba-f405-4598-fde9-75d62d3e3653"
      },
      "source": [
        "#### Change this directory\n",
        "import numpy as np\n",
        "embeddings_index = {}\n",
        "f = open('/tmp/glove/glove.6B.100d.txt')\n",
        "for line in f:\n",
        "    values = line.split()\n",
        "    word = values[0]\n",
        "    coefs = np.asarray(values[1:], dtype='float32')\n",
        "    embeddings_index[word] = coefs\n",
        "f.close()\n",
        "\n",
        "print('Found %s word vectors.' % len(embeddings_index))"
      ],
      "execution_count": null,
      "outputs": [
        {
          "name": "stdout",
          "output_type": "stream",
          "text": [
            "Found 400000 word vectors.\n"
          ]
        }
      ]
    },
    {
      "cell_type": "code",
      "metadata": {
        "id": "H66cHfNof4sL"
      },
      "source": [
        "# obtain the embedding for every word in the training set\n",
        "# If an embedding for a certain word doesn’t exist, the embedding will be represented with zeros. \n",
        "\n",
        "embedding_matrix = np.zeros((len(tokenizer.word_index) + 1, max_length))\n",
        "for word, i in tokenizer.word_index.items():\n",
        "    embedding_vector = embeddings_index.get(word)\n",
        "    if embedding_vector is not None:\n",
        "        # words not found in embedding index will be all-zeros.\n",
        "        embedding_matrix[i] = embedding_vector"
      ],
      "execution_count": null,
      "outputs": []
    },
    {
      "cell_type": "code",
      "metadata": {
        "id": "q7Cm_UZ6f6Ks"
      },
      "source": [
        "# embedding layer is created and embedding matrix obtained above is used as its weight\n",
        "# `trainable` attribute = false: layer isn’t trained again. otherwise, the layer will be trained again = pre-trained weights will be lost. \n",
        "# The first argument is the size of the vocabulary \n",
        "# `input_length` : length of the input sequences \n",
        "# `output_dim` : dimension of the dense embedding. \n",
        "\n",
        "\n",
        "embedding_layer = Embedding(input_dim=len(tokenizer.word_index) + 1,\n",
        "                            output_dim=max_length,\n",
        "                            weights=[embedding_matrix],\n",
        "                            input_length=max_length,\n",
        "                            trainable=False)"
      ],
      "execution_count": null,
      "outputs": []
    },
    {
      "cell_type": "code",
      "metadata": {
        "id": "h5Pql6aUf8Ag"
      },
      "source": [
        "model = Sequential([\n",
        "    embedding_layer,\n",
        "  Conv1D(128, 5, activation='relu'),\n",
        "  GlobalMaxPooling1D(), \n",
        "  Dropout(0.5),\n",
        "  Dense(10, activation='relu'),\n",
        "  Dense(1, activation='sigmoid')\n",
        "])"
      ],
      "execution_count": null,
      "outputs": []
    },
    {
      "cell_type": "code",
      "metadata": {
        "id": "EyW9GCvNf9ok"
      },
      "source": [
        "# what does each parameter mean\n",
        "model.compile(loss='binary_crossentropy',optimizer='adam',metrics=['accuracy'])"
      ],
      "execution_count": null,
      "outputs": []
    },
    {
      "cell_type": "code",
      "metadata": {
        "colab": {
          "base_uri": "https://localhost:8080/"
        },
        "id": "nTCCwamvf-4N",
        "outputId": "0917022e-06a6-491b-87fa-e6d91de9de40"
      },
      "source": [
        "# You can implement the `EarlyStoppingCallback` to stop the training process once the model stops improving. \n",
        "# Takes time to run !\n",
        "history = model.fit(X_train_padded, y_train, epochs=20, validation_data=(X_test_padded, y_test), callbacks = [es])"
      ],
      "execution_count": null,
      "outputs": [
        {
          "name": "stdout",
          "output_type": "stream",
          "text": [
            "Epoch 1/20\n",
            "14348/14348 [==============================] - 423s 29ms/step - loss: 0.5274 - accuracy: 0.7526 - val_loss: 0.5264 - val_accuracy: 0.7525\n"
          ]
        }
      ]
    },
    {
      "cell_type": "code",
      "metadata": {
        "colab": {
          "base_uri": "https://localhost:8080/"
        },
        "id": "man7yDnpgAE0",
        "outputId": "3eb96c41-1c98-4339-8805-b76b196ad0bf"
      },
      "source": [
        "loss, accuracy = model.evaluate(X_test_padded,y_test)\n",
        "print('Testing Accuracy is {} '.format(accuracy*100))"
      ],
      "execution_count": null,
      "outputs": [
        {
          "name": "stdout",
          "output_type": "stream",
          "text": [
            "3587/3587 [==============================] - 40s 11ms/step - loss: 0.5264 - accuracy: 0.7525\n",
            "Testing Accuracy is 75.24807453155518 \n"
          ]
        }
      ]
    },
    {
      "cell_type": "markdown",
      "metadata": {
        "id": "qE26BQu9pc2U"
      },
      "source": [
        "# Optimising Hyperparameters"
      ]
    },
    {
      "cell_type": "code",
      "metadata": {
        "id": "zW7-akidpfr8"
      },
      "source": [
        "def model_to_optimize(num_filters, kernel_size):\n",
        "  model = Sequential([\n",
        "  embedding_layer,\n",
        "  Conv1D(num_filters, kernel_size, activation='relu'),\n",
        "  GlobalMaxPooling1D(),\n",
        "  Dense(10, activation='relu'),\n",
        "  Dropout(0.5),\n",
        "  Dense(1, activation='sigmoid')])\n",
        "  model.compile(loss='binary_crossentropy',optimizer='adam',metrics=['accuracy'])\n",
        "  return model"
      ],
      "execution_count": null,
      "outputs": []
    },
    {
      "cell_type": "code",
      "metadata": {
        "id": "u6tdvmQ3pihg"
      },
      "source": [
        "# Change these\n",
        "params = {\n",
        "    \"num_filters\":[32, 64, 128],\n",
        "    \"kernel_size\":[3, 5, 7],\n",
        "}"
      ],
      "execution_count": null,
      "outputs": []
    },
    {
      "cell_type": "code",
      "metadata": {
        "id": "KVLujQOVpnVU"
      },
      "source": [
        "from tensorflow.keras.wrappers.scikit_learn import KerasClassifier\n",
        "model = KerasClassifier(build_fn=model_to_optimize,\n",
        "                            epochs=20,\n",
        "                           batch_size=10,\n",
        "                            verbose=False)"
      ],
      "execution_count": null,
      "outputs": []
    },
    {
      "cell_type": "code",
      "metadata": {
        "colab": {
          "background_save": true,
          "base_uri": "https://localhost:8080/"
        },
        "id": "73-OFUSqpqgO",
        "outputId": "e2ac0f1c-94b9-4ff0-a4ca-dc57031dc1d9"
      },
      "source": [
        "from sklearn.model_selection import GridSearchCV\n",
        "# change cv = 10 for 10-fold val.\n",
        "search = GridSearchCV(estimator=model, param_grid=params,\n",
        "                              cv=5, verbose=1)\n",
        "search_result = search.fit(X_train_padded, y_train)"
      ],
      "execution_count": null,
      "outputs": [
        {
          "name": "stdout",
          "output_type": "stream",
          "text": [
            "Fitting 5 folds for each of 9 candidates, totalling 45 fits\n"
          ]
        },
        {
          "name": "stderr",
          "output_type": "stream",
          "text": [
            "[Parallel(n_jobs=1)]: Using backend SequentialBackend with 1 concurrent workers.\n"
          ]
        }
      ]
    },
    {
      "cell_type": "code",
      "metadata": {
        "id": "KHAx_WGypuw4"
      },
      "source": [
        "test_accuracy = search.score(X_test_padded, y_test)"
      ],
      "execution_count": null,
      "outputs": []
    },
    {
      "cell_type": "code",
      "metadata": {
        "id": "X3diMowPpwLj"
      },
      "source": [
        "# best parameters after gridsearch\n",
        "search.best_params_"
      ],
      "execution_count": null,
      "outputs": []
    },
    {
      "cell_type": "code",
      "metadata": {
        "id": "gCbCYhtFpxUT"
      },
      "source": [
        "# Cross Fold results\n",
        "pd.DataFrame(search.cv_results_)"
      ],
      "execution_count": null,
      "outputs": []
    }
  ]
}