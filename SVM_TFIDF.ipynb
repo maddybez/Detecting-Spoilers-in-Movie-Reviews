{
  "nbformat": 4,
  "nbformat_minor": 0,
  "metadata": {
    "colab": {
      "name": "SVM_TFIDF.ipynb",
      "provenance": []
    },
    "kernelspec": {
      "name": "python3",
      "display_name": "Python 3"
    },
    "language_info": {
      "name": "python"
    }
  },
  "cells": [
    {
      "cell_type": "code",
      "metadata": {
        "colab": {
          "base_uri": "https://localhost:8080/"
        },
        "id": "IQqTKQfCR3XJ",
        "outputId": "2beee260-84a7-4a39-ddf8-4458516d3811"
      },
      "source": [
        "import pandas as pd\n",
        "import numpy as np\n",
        "from google.colab import drive\n",
        "drive.mount('/drive')"
      ],
      "execution_count": null,
      "outputs": [
        {
          "output_type": "stream",
          "name": "stdout",
          "text": [
            "Mounted at /drive\n"
          ]
        }
      ]
    },
    {
      "cell_type": "code",
      "metadata": {
        "id": "UkL_FUUmSTTh"
      },
      "source": [
        "from time import time\n",
        "from sklearn.model_selection import train_test_split\n",
        "from sklearn.model_selection import GridSearchCV\n",
        "from sklearn.svm import LinearSVC\n",
        "from sklearn.feature_extraction.text import CountVectorizer,TfidfVectorizer\n",
        "from sklearn.metrics import accuracy_score,log_loss,confusion_matrix,classification_report,roc_curve,auc"
      ],
      "execution_count": null,
      "outputs": []
    },
    {
      "cell_type": "code",
      "metadata": {
        "id": "xJDt74S_W2MT"
      },
      "source": [
        "from os import listdir\n",
        "from os.path import isfile, join\n",
        "files = [f for f in listdir('/drive/MyDrive/Colab Notebooks/CS3244 Machine Learning/CS3244 Group Project/Data/Data/') if isfile(join('/drive/MyDrive/Colab Notebooks/CS3244 Machine Learning/CS3244 Group Project/Data/Data/', f))]\n",
        "#files = [f for f in listdir('/drive/MyDrive/Colab Notebooks/CS3244 Machine Learning/CS3244 Group Project/Clean/') if isfile(join('/drive/MyDrive/Colab Notebooks/CS3244 Machine Learning/CS3244 Group Project/Clean/', f))]\n",
        "#files = [f for f in listdir('/drive/MyDrive/Colab Notebooks/CS3244 Machine Learning/CS3244 Group Project/Data/') if isfile(join('/drive/MyDrive/Colab Notebooks/CS3244 Machine Learning/CS3244 Group Project/Data/', f))]\n"
      ],
      "execution_count": null,
      "outputs": []
    },
    {
      "cell_type": "code",
      "metadata": {
        "colab": {
          "base_uri": "https://localhost:8080/"
        },
        "id": "Z5dey-KdW5_c",
        "outputId": "6b77f84a-3343-4de3-ee48-d33d6ab07ca6"
      },
      "source": [
        "\n",
        "#Change path to your own drive\n",
        "df_reviews = pd.DataFrame( columns=['review_text','review_summary','is_spoiler'])\n",
        "for file in files:\n",
        "  print(\"Appending: \"+ file)\n",
        "  df_temp = pd.read_json('/drive/MyDrive/Colab Notebooks/CS3244 Machine Learning/CS3244 Group Project/Data/Data/' + file, lines = False)\n",
        "  #df_temp = pd.read_json('/drive/MyDrive/Colab Notebooks/CS3244 Machine Learning/CS3244 Group Project/Data/' + file, lines = False)\n",
        "  #df_temp = pd.read_json('/drive/MyDrive/Colab Notebooks/CS3244 Machine Learning/CS3244 Group Project/Clean/' + file, lines = False)\n",
        "  df_reviews = df_reviews.append(df_temp.copy())\n"
      ],
      "execution_count": null,
      "outputs": [
        {
          "output_type": "stream",
          "name": "stdout",
          "text": [
            "Appending: Data_X(400000-400999).json\n",
            "Appending: Data_X(300000-300999).json\n",
            "Appending: Data_X(0-999).json\n",
            "Appending: Data_X(1000-1999).json\n",
            "Appending: Data_X(401000-401999).json\n",
            "Appending: Data_X(301000-301999).json\n",
            "Appending: Data_X(302000-302999).json\n",
            "Appending: Data_X(402000-402999).json\n",
            "Appending: Data_X(303000-303999).json\n",
            "Appending: Data_X(2000-2999).json\n",
            "Appending: Data_X(3000-3999).json\n",
            "Appending: Data_X(304000-304999).json\n",
            "Appending: Data_X(403000-403999).json\n",
            "Appending: Data_X(4000-4999).json\n",
            "Appending: Data_X(5000-5999).json\n",
            "Appending: Data_X(305000-305999).json\n",
            "Appending: Data_X(6000-6999).json\n",
            "Appending: Data_X(306000-306999).json\n",
            "Appending: Data_X(7000-7999).json\n",
            "Appending: Data_X(8000-8999).json\n",
            "Appending: Data_X(9000-9999).json\n",
            "Appending: Data_X(350000-350999).json\n",
            "Appending: Data_X(351000-351999).json\n",
            "Appending: Data_X(352000-352999).json\n",
            "Appending: Data_X(353000-353999).json\n",
            "Appending: Data_X(354000-354999).json\n",
            "Appending: Data_X(355000-355999).json\n",
            "Appending: Data_X(356000-356999).json\n",
            "Appending: Data_X(357000-357999).json\n",
            "Appending: Data_X(358000-358999).json\n",
            "Appending: Data_X(359000-359999).json\n",
            "Appending: Data_X(10000-10999).json\n",
            "Appending: Data_X(11000-11999).json\n",
            "Appending: Data_X(307000-307999).json\n",
            "Appending: Data_X(404000-404999).json\n",
            "Appending: Data_X(308000-308999).json\n",
            "Appending: Data_X(309000-309999).json\n",
            "Appending: Data_X(310000-310999).json\n",
            "Appending: Data_X(311000-311999).json\n",
            "Appending: Data_X(312000-312999).json\n",
            "Appending: Data_X(313000-313999).json\n",
            "Appending: Data_X(314000-314999).json\n",
            "Appending: Data_X(315000-315999).json\n",
            "Appending: Data_X(316000-316999).json\n",
            "Appending: Data_X(405000-405999).json\n",
            "Appending: Data_X(317000-317999).json\n",
            "Appending: Data_X(406000-406999).json\n",
            "Appending: Data_X(318000-318999).json\n",
            "Appending: Data_X(319000-319999).json\n",
            "Appending: Data_X(407000-407999).json\n",
            "Appending: Data_X(320000-320999).json\n",
            "Appending: Data_X(408000-408999).json\n",
            "Appending: Data_X(321000-321999).json\n",
            "Appending: Data_X(322000-322999).json\n",
            "Appending: Data_X(409000-409999).json\n",
            "Appending: Data_X(323000-323999).json\n",
            "Appending: Data_X(324000-324999).json\n",
            "Appending: Data_X(410000-410999).json\n",
            "Appending: Data_X(325000-325999).json\n",
            "Appending: Data_X(326000-326999).json\n",
            "Appending: Data_X(327000-327999).json\n",
            "Appending: Data_X(12000-12999).json\n",
            "Appending: Data_X(328000-328999).json\n",
            "Appending: Data_X(13000-13999).json\n",
            "Appending: Data_X(14000-14999).json\n",
            "Appending: Data_X(329000-329999).json\n",
            "Appending: Data_X(15000-15999).json\n",
            "Appending: Data_X(16000-16999).json\n",
            "Appending: Data_X(330000-330999).json\n",
            "Appending: Data_X(17000-17999).json\n",
            "Appending: Data_X(18000-18999).json\n",
            "Appending: Data_X(331000-331999).json\n",
            "Appending: Data_X(19000-19999).json\n",
            "Appending: Data_X(20000-20999).json\n",
            "Appending: Data_X(21000-21999).json\n",
            "Appending: Data_X(22000-22999).json\n",
            "Appending: Data_X(23000-23999).json\n",
            "Appending: Data_X(24000-24999).json\n",
            "Appending: Data_X(332000-332999).json\n",
            "Appending: Data_X(333000-333999).json\n",
            "Appending: Data_X(334000-334999).json\n",
            "Appending: Data_X(335000-335999).json\n",
            "Appending: Data_X(200000-200999).json\n",
            "Appending: Data_X(336000-336999).json\n",
            "Appending: Data_X(337000-337999).json\n",
            "Appending: Data_X(338000-338999).json\n",
            "Appending: Data_X(339000-339999).json\n",
            "Appending: Data_X(340000-340999).json\n",
            "Appending: Data_X(341000-341999).json\n",
            "Appending: Data_X(342000-342999).json\n",
            "Appending: Data_X(343000-343999).json\n",
            "Appending: Data_X(344000-344999).json\n",
            "Appending: Data_X(345000-345999).json\n",
            "Appending: Data_X(346000-346999).json\n",
            "Appending: Data_X(347000-347999).json\n",
            "Appending: Data_X(25000-25999).json\n",
            "Appending: Data_X(348000-348999).json\n",
            "Appending: Data_X(349000-349999).json\n",
            "Appending: Data_X(201000-201999).json\n",
            "Appending: Data_X(26000-26999).json\n",
            "Appending: Data_X(27000-27999).json\n",
            "Appending: Data_X(28000-28999).json\n",
            "Appending: Data_X(202000-202999).json\n",
            "Appending: Data_X(29000-29999).json\n",
            "Appending: Data_X(30000-30999).json\n",
            "Appending: Data_X(203000-203999).json\n",
            "Appending: Data_X(204000-204999).json\n",
            "Appending: Data_X(205000-205999).json\n",
            "Appending: Data_X(206000-206999).json\n",
            "Appending: Data_X(207000-207999).json\n",
            "Appending: Data_X(208000-208999).json\n",
            "Appending: Data_X(209000-209999).json\n",
            "Appending: Data_X(210000-210999).json\n",
            "Appending: Data_X(211000-211999).json\n",
            "Appending: Data_X(212000-212999).json\n",
            "Appending: Data_X(213000-213999).json\n",
            "Appending: Data_X(214000-214999).json\n",
            "Appending: Data_X(215000-215999).json\n",
            "Appending: Data_X(216000-216999).json\n",
            "Appending: Data_X(31000-31999).json\n",
            "Appending: Data_X(217000-217999).json\n",
            "Appending: Data_X(32000-32999).json\n",
            "Appending: Data_X(33000-33999).json\n",
            "Appending: Data_X(218000-218999).json\n",
            "Appending: Data_X(219000-219999).json\n",
            "Appending: Data_X(220000-220999).json\n",
            "Appending: Data_X(221000-221999).json\n",
            "Appending: Data_X(222000-222999).json\n",
            "Appending: Data_X(223000-223999).json\n",
            "Appending: Data_X(224000-224999).json\n",
            "Appending: Data_X(225000-225999).json\n",
            "Appending: Data_X(226000-226999).json\n",
            "Appending: Data_X(227000-227999).json\n",
            "Appending: Data_X(228000-228999).json\n",
            "Appending: Data_X(229000-229999).json\n",
            "Appending: Data_X(230000-230999).json\n",
            "Appending: Data_X(231000-231999).json\n",
            "Appending: Data_X(232000-232999).json\n",
            "Appending: Data_X(360000-360999).json\n",
            "Appending: Data_X(361000-361999).json\n",
            "Appending: Data_X(362000-362999).json\n",
            "Appending: Data_X(363000-363999).json\n",
            "Appending: Data_X(364000-364999).json\n",
            "Appending: Data_X(365000-365999).json\n",
            "Appending: Data_X(366000-366999).json\n",
            "Appending: Data_X(367000-367999).json\n",
            "Appending: Data_X(368000-368999).json\n",
            "Appending: Data_X(369000-369999).json\n",
            "Appending: Data_X(370000-370999).json\n",
            "Appending: Data_X(371000-371999).json\n",
            "Appending: Data_X(372000-372999).json\n",
            "Appending: Data_X(373000-373999).json\n",
            "Appending: Data_X(374000-374999).json\n",
            "Appending: Data_X(375000-375999).json\n",
            "Appending: Data_X(376000-376999).json\n",
            "Appending: Data_X(377000-377999).json\n",
            "Appending: Data_X(378000-378999).json\n",
            "Appending: Data_X(379000-379999).json\n",
            "Appending: Data_X(380000-380999).json\n",
            "Appending: Data_X(381000-381999).json\n",
            "Appending: Data_X(382000-382999).json\n",
            "Appending: Data_X(383000-383999).json\n",
            "Appending: Data_X(384000-384999).json\n",
            "Appending: Data_X(385000-385999).json\n",
            "Appending: Data_X(386000-386999).json\n",
            "Appending: Data_X(387000-387999).json\n",
            "Appending: Data_X(388000-388999).json\n",
            "Appending: Data_X(389000-389999).json\n",
            "Appending: Data_X(233000-233999).json\n",
            "Appending: Data_X(234000-234999).json\n",
            "Appending: Data_X(235000-235999).json\n",
            "Appending: Data_X(236000-236999).json\n",
            "Appending: Data_X(237000-237999).json\n",
            "Appending: Data_X(238000-238999).json\n",
            "Appending: Data_X(239000-239999).json\n",
            "Appending: Data_X(240000-240999).json\n",
            "Appending: Data_X(241000-241999).json\n",
            "Appending: Data_X(242000-242999).json\n",
            "Appending: Data_X(243000-243999).json\n",
            "Appending: Data_X(244000-244999).json\n",
            "Appending: Data_X(245000-245999).json\n",
            "Appending: Data_X(246000-246999).json\n",
            "Appending: Data_X(247000-247999).json\n",
            "Appending: Data_X(248000-248999).json\n",
            "Appending: Data_X(249000-249999).json\n",
            "Appending: Data_X(250000-250999).json\n",
            "Appending: Data_X(251000-251999).json\n",
            "Appending: Data_X(252000-252999).json\n",
            "Appending: Data_X(253000-253999).json\n",
            "Appending: Data_X(254000-254999).json\n",
            "Appending: Data_X(255000-255999).json\n",
            "Appending: Data_X(256000-256999).json\n",
            "Appending: Data_X(257000-257999).json\n",
            "Appending: Data_X(258000-258999).json\n",
            "Appending: Data_X(259000-259999).json\n",
            "Appending: Data_X(260000-260999).json\n",
            "Appending: Data_X(261000-261999).json\n",
            "Appending: Data_X(262000-262999).json\n",
            "Appending: Data_X(263000-263999).json\n",
            "Appending: Data_X(264000-264999).json\n",
            "Appending: Data_X(265000-265999).json\n",
            "Appending: Data_X(266000-266999).json\n",
            "Appending: Data_X(267000-267999).json\n",
            "Appending: Data_X(268000-268999).json\n",
            "Appending: Data_X(269000-269999).json\n",
            "Appending: Data_X(270000-270999).json\n",
            "Appending: Data_X(271000-271999).json\n",
            "Appending: Data_X(272000-272999).json\n",
            "Appending: Data_X(273000-273999).json\n",
            "Appending: Data_X(274000-274999).json\n",
            "Appending: Data_X(275000-275999).json\n",
            "Appending: Data_X(276000-276999).json\n",
            "Appending: Data_X(277000-277999).json\n",
            "Appending: Data_X(278000-278999).json\n",
            "Appending: Data_X(279000-279999).json\n",
            "Appending: Data_X(280000-280999).json\n",
            "Appending: Data_X(281000-281999).json\n",
            "Appending: Data_X(34000-34999).json\n",
            "Appending: Data_X(282000-282999).json\n",
            "Appending: Data_X(35000-35999).json\n",
            "Appending: Data_X(283000-283999).json\n",
            "Appending: Data_X(36000-36999).json\n",
            "Appending: Data_X(37000-37999).json\n",
            "Appending: Data_X(284000-284999).json\n",
            "Appending: Data_X(285000-285999).json\n",
            "Appending: Data_X(286000-286999).json\n",
            "Appending: Data_X(287000-287999).json\n",
            "Appending: Data_X(288000-288999).json\n",
            "Appending: Data_X(289000-289999).json\n",
            "Appending: Data_X(290000-290999).json\n",
            "Appending: Data_X(291000-291999).json\n",
            "Appending: Data_X(292000-292999).json\n",
            "Appending: Data_X(293000-293999).json\n",
            "Appending: Data_X(294000-294999).json\n",
            "Appending: Data_X(295000-295999).json\n",
            "Appending: Data_X(296000-296999).json\n",
            "Appending: Data_X(297000-297999).json\n",
            "Appending: Data_X(298000-298999).json\n",
            "Appending: Data_X(299000-299999).json\n",
            "Appending: Data_X(38000-38999).json\n",
            "Appending: Data_X(500000-500999).json\n",
            "Appending: Data_X(39000-39999).json\n",
            "Appending: Data_X(411000-411999).json\n",
            "Appending: Data_X(40000-40999).json\n",
            "Appending: Data_X(501000-501999).json\n",
            "Appending: Data_X(412000-412999).json\n",
            "Appending: Data_X(41000-41999).json\n",
            "Appending: Data_X(413000-413999).json\n",
            "Appending: Data_X(502000-502999).json\n",
            "Appending: Data_X(414000-414999).json\n",
            "Appending: Data_X(503000-503999).json\n",
            "Appending: Data_X(415000-415999).json\n",
            "Appending: Data_X(416000-416999).json\n",
            "Appending: Data_X(504000-504999).json\n",
            "Appending: Data_X(417000-417999).json\n",
            "Appending: Data_X(42000-42999).json\n",
            "Appending: Data_X(505000-505999).json\n",
            "Appending: Data_X(418000-418999).json\n",
            "Appending: Data_X(506000-506999).json\n",
            "Appending: Data_X(419000-419999).json\n",
            "Appending: Data_X(420000-420999).json\n",
            "Appending: Data_X(507000-507999).json\n",
            "Appending: Data_X(421000-421999).json\n",
            "Appending: Data_X(508000-508999).json\n",
            "Appending: Data_X(422000-422999).json\n",
            "Appending: Data_X(509000-509999).json\n",
            "Appending: Data_X(43000-43999).json\n",
            "Appending: Data_X(423000-423999).json\n",
            "Appending: Data_X(510000-510999).json\n",
            "Appending: Data_X(44000-44999).json\n",
            "Appending: Data_X(424000-424999).json\n",
            "Appending: Data_X(425000-425999).json\n",
            "Appending: Data_X(511000-511999).json\n",
            "Appending: Data_X(426000-426999).json\n",
            "Appending: Data_X(512000-512999).json\n",
            "Appending: Data_X(45000-45999).json\n",
            "Appending: Data_X(427000-427999).json\n",
            "Appending: Data_X(46000-46999).json\n",
            "Appending: Data_X(513000-513999).json\n",
            "Appending: Data_X(428000-428999).json\n",
            "Appending: Data_X(429000-429999).json\n",
            "Appending: Data_X(47000-47999).json\n",
            "Appending: Data_X(514000-514999).json\n",
            "Appending: Data_X(430000-430999).json\n",
            "Appending: Data_X(515000-515999).json\n",
            "Appending: Data_X(516000-516999).json\n",
            "Appending: Data_X(517000-517999).json\n",
            "Appending: Data_X(518000-518999).json\n",
            "Appending: Data_X(519000-519999).json\n",
            "Appending: Data_X(520000-520999).json\n",
            "Appending: Data_X(521000-521999).json\n",
            "Appending: Data_X(522000-522999).json\n",
            "Appending: Data_X(523000-523999).json\n",
            "Appending: Data_X(48000-48999).json\n",
            "Appending: Data_X(49000-49999).json\n",
            "Appending: Data_X(50000-50999).json\n",
            "Appending: Data_X(51000-51999).json\n",
            "Appending: Data_X(52000-52999).json\n",
            "Appending: Data_X(524000-524999).json\n",
            "Appending: Data_X(525000-525999).json\n",
            "Appending: Data_X(526000-526999).json\n",
            "Appending: Data_X(527000-527999).json\n",
            "Appending: Data_X(528000-528999).json\n",
            "Appending: Data_X(529000-529999).json\n",
            "Appending: Data_X(530000-530999).json\n",
            "Appending: Data_X(531000-531999).json\n",
            "Appending: Data_X(532000-532999).json\n",
            "Appending: Data_X(533000-533999).json\n",
            "Appending: Data_X(534000-534999).json\n",
            "Appending: Data_X(535000-535999).json\n",
            "Appending: Data_X(536000-536999).json\n",
            "Appending: Data_X(537000-537999).json\n",
            "Appending: Data_X(538000-538999).json\n",
            "Appending: Data_X(539000-539999).json\n",
            "Appending: Data_X(390000-390999).json\n",
            "Appending: Data_X(540000-540999).json\n",
            "Appending: Data_X(391000-391999).json\n",
            "Appending: Data_X(541000-541999).json\n",
            "Appending: Data_X(392000-392999).json\n",
            "Appending: Data_X(393000-393999).json\n",
            "Appending: Data_X(542000-542999).json\n",
            "Appending: Data_X(394000-394999).json\n",
            "Appending: Data_X(543000-543999).json\n",
            "Appending: Data_X(544000-544999).json\n",
            "Appending: Data_X(545000-545999).json\n",
            "Appending: Data_X(546000-546999).json\n",
            "Appending: Data_X(395000-395999).json\n",
            "Appending: Data_X(396000-396999).json\n",
            "Appending: Data_X(397000-397999).json\n",
            "Appending: Data_X(398000-398999).json\n",
            "Appending: Data_X(399000-399999).json\n",
            "Appending: Data_X(53000-53999).json\n",
            "Appending: Data_X(54000-54999).json\n",
            "Appending: Data_X(55000-55999).json\n",
            "Appending: Data_X(56000-56999).json\n",
            "Appending: Data_X(57000-57999).json\n",
            "Appending: Data_X(58000-58999).json\n",
            "Appending: Data_X(59000-59999).json\n",
            "Appending: Data_X(60000-60999).json\n",
            "Appending: Data_X(61000-61999).json\n",
            "Appending: Data_X(62000-62999).json\n",
            "Appending: Data_X(63000-63999).json\n",
            "Appending: Data_X(64000-64999).json\n",
            "Appending: Data_X(547000-547999).json\n",
            "Appending: Data_X(548000-548999).json\n",
            "Appending: Data_X(549000-549999).json\n",
            "Appending: Data_X(550000-550999).json\n",
            "Appending: Data_X(551000-551999).json\n",
            "Appending: Data_X(552000-552999).json\n",
            "Appending: Data_X(553000-553999).json\n",
            "Appending: Data_X(554000-554999).json\n",
            "Appending: Data_X(555000-555999).json\n",
            "Appending: Data_X(65000-65999).json\n",
            "Appending: Data_X(556000-556999).json\n",
            "Appending: Data_X(557000-557999).json\n",
            "Appending: Data_X(558000-558999).json\n",
            "Appending: Data_X(559000-559999).json\n",
            "Appending: Data_X(560000-560999).json\n",
            "Appending: Data_X(561000-561999).json\n",
            "Appending: Data_X(562000-562999).json\n",
            "Appending: Data_X(563000-563999).json\n",
            "Appending: Data_X(564000-564999).json\n",
            "Appending: Data_X(565000-565999).json\n",
            "Appending: Data_X(66000-66999).json\n",
            "Appending: Data_X(67000-67999).json\n",
            "Appending: Data_X(68000-68999).json\n",
            "Appending: Data_X(69000-69999).json\n",
            "Appending: Data_X(566000-566999).json\n",
            "Appending: Data_X(567000-567999).json\n",
            "Appending: Data_X(70000-70999).json\n",
            "Appending: Data_X(71000-71999).json\n",
            "Appending: Data_X(72000-72999).json\n",
            "Appending: Data_X(568000-568999).json\n",
            "Appending: Data_X(73000-73999).json\n",
            "Appending: Data_X(569000-569999).json\n",
            "Appending: Data_X(74000-74999).json\n",
            "Appending: Data_X(75000-75999).json\n",
            "Appending: Data_X(570000-570999).json\n",
            "Appending: Data_X(571000-571999).json\n",
            "Appending: Data_X(572000-572999).json\n",
            "Appending: Data_X(573000-573999).json\n",
            "Appending: Data_X(76000-76999).json\n",
            "Appending: Data_X(77000-77999).json\n",
            "Appending: Data_X(78000-78999).json\n",
            "Appending: Data_X(79000-79999).json\n",
            "Appending: Data_X(80000-80999).json\n",
            "Appending: Data_X(81000-81999).json\n",
            "Appending: Data_X(82000-82999).json\n",
            "Appending: Data_X(83000-83999).json\n",
            "Appending: Data_X(84000-84999).json\n",
            "Appending: Data_X(85000-85999).json\n",
            "Appending: Data_X(86000-86999).json\n",
            "Appending: Data_X(87000-87999).json\n",
            "Appending: Data_X(88000-88999).json\n",
            "Appending: Data_X(89000-89999).json\n",
            "Appending: Data_X(90000-90999).json\n",
            "Appending: Data_X(91000-91999).json\n",
            "Appending: Data_X(92000-92999).json\n",
            "Appending: Data_X(93000-93999).json\n",
            "Appending: Data_X(94000-94999).json\n",
            "Appending: Data_X(95000-95999).json\n",
            "Appending: Data_X(96000-96999).json\n",
            "Appending: Data_X(97000-97999).json\n",
            "Appending: Data_X(98000-98999).json\n",
            "Appending: Data_X(99000-99999).json\n"
          ]
        }
      ]
    },
    {
      "cell_type": "code",
      "metadata": {
        "id": "eKHQlMIhST_g"
      },
      "source": [
        "#df_reviews = pd.read_json('/drive/MyDrive/Colab Notebooks/CS3244 Machine Learning/CS3244 Group Project/clean_dataset.json', lines=False)"
      ],
      "execution_count": null,
      "outputs": []
    },
    {
      "cell_type": "code",
      "metadata": {
        "id": "VwnRSYAQSmb-"
      },
      "source": [
        "df_reviews['spoiler'] = df_reviews['is_spoiler'].apply(lambda x: 1 if x is True else 0)\n",
        "df_X = df_reviews[[\"review_text\"]]\n",
        "df_Y = df_reviews[[\"spoiler\"]]"
      ],
      "execution_count": null,
      "outputs": []
    },
    {
      "cell_type": "code",
      "metadata": {
        "colab": {
          "base_uri": "https://localhost:8080/"
        },
        "id": "1QqS0GJIT3o7",
        "outputId": "1864a690-7c0b-40d2-d30d-232331080198"
      },
      "source": [
        "df_Y, df_X"
      ],
      "execution_count": null,
      "outputs": [
        {
          "output_type": "execute_result",
          "data": {
            "text/plain": [
              "(        spoiler\n",
              " 400000        0\n",
              " 400001        0\n",
              " 400002        0\n",
              " 400003        0\n",
              " 400004        0\n",
              " ...         ...\n",
              " 99995         0\n",
              " 99996         0\n",
              " 99997         0\n",
              " 99998         0\n",
              " 99999         0\n",
              " \n",
              " [404913 rows x 1 columns],\n",
              "                                               review_text\n",
              " 400000  [go, watch, movie, largely, meryl, streep, ope...\n",
              " 400001  [movie, true, look, working, fashion, industry...\n",
              " 400002  [anne, hathaway, play, intelligent, hard, work...\n",
              " 400003  [actually, surprisingly, good, watch, thought,...\n",
              " 400004  [absolutely, incredible, see, movie, four, tim...\n",
              " ...                                                   ...\n",
              " 99995   [woody, professional, integrity, held, fast, q...\n",
              " 99996   [woody, favorite, comedian, pretty, much, anyt...\n",
              " 99997   [movie, life, alvy, singer, reflect, life, alw...\n",
              " 99998   [16, see, single, woody, film, even, know, loo...\n",
              " 99999   [annie, hall, film, notorious, beating, star, ...\n",
              " \n",
              " [404913 rows x 1 columns])"
            ]
          },
          "metadata": {},
          "execution_count": 9
        }
      ]
    },
    {
      "cell_type": "code",
      "metadata": {
        "colab": {
          "base_uri": "https://localhost:8080/"
        },
        "id": "5sA7seiET6CO",
        "outputId": "3de4794b-9451-4bf9-a21c-b4ef8545f859"
      },
      "source": [
        "#Split training and test data\n",
        "#(random_state): we use a fixed random seed so we get the same results every time.\n",
        "X_train, X_test, y_train, y_test = train_test_split(df_X, df_Y, test_size=0.2, random_state=0)\n",
        "print (\"Number of training instances: \", len(X_train), \"\\nNumber of test instances: \", len(X_test))"
      ],
      "execution_count": null,
      "outputs": [
        {
          "output_type": "stream",
          "name": "stdout",
          "text": [
            "Number of training instances:  323930 \n",
            "Number of test instances:  80983\n"
          ]
        }
      ]
    },
    {
      "cell_type": "code",
      "metadata": {
        "id": "WLQTgWYpT6o7"
      },
      "source": [
        "# Transform each text into a vector of word counts\n",
        "vectorizer = CountVectorizer(max_features = 20000, analyzer = 'word', \n",
        "                             dtype = np.float32, ngram_range=(1,1))\n",
        "X_train_tfidf = vectorizer.fit_transform(X_train['review_text'].astype('U'))\n",
        "X_test_tfidf = vectorizer.transform(X_test['review_text'].astype('U'))"
      ],
      "execution_count": null,
      "outputs": []
    },
    {
      "cell_type": "markdown",
      "metadata": {
        "id": "TxnTbnSYVxdV"
      },
      "source": [
        "Data: Data_X(400000-400999).json\n",
        "\n",
        "CountVectorizer() -- svc_score = 0.72\n",
        "\n",
        "CountVectorizer(max_features = 20000, analyzer = 'word', dtype = np.float32, ngram_range=(3,5)) -- svc_score = 0.735\n",
        "\n",
        "Data: All Data in clean data folder\n",
        "\n",
        "CountVectorizer(max_features = 20000, analyzer = 'word', dtype = np.float32, ngram_range=(2,3)) -- svc_score = 0.74381"
      ]
    },
    {
      "cell_type": "code",
      "metadata": {
        "id": "vq1Y1Ak2UBJw",
        "colab": {
          "base_uri": "https://localhost:8080/"
        },
        "outputId": "704f86ba-c117-477f-b098-7de88ea7c52c"
      },
      "source": [
        "#Applying SVC\n",
        "svc = LinearSVC()\n",
        "a = svc.fit(X_train_tfidf,y_train)\n",
        "y_pred = a.predict(X_test_tfidf)\n",
        "\n",
        "svc_score = accuracy_score(y_test, y_pred)"
      ],
      "execution_count": null,
      "outputs": [
        {
          "output_type": "stream",
          "name": "stderr",
          "text": [
            "/usr/local/lib/python3.7/dist-packages/sklearn/utils/validation.py:760: DataConversionWarning: A column-vector y was passed when a 1d array was expected. Please change the shape of y to (n_samples, ), for example using ravel().\n",
            "  y = column_or_1d(y, warn=True)\n",
            "/usr/local/lib/python3.7/dist-packages/sklearn/svm/_base.py:947: ConvergenceWarning: Liblinear failed to converge, increase the number of iterations.\n",
            "  \"the number of iterations.\", ConvergenceWarning)\n"
          ]
        }
      ]
    },
    {
      "cell_type": "code",
      "metadata": {
        "id": "pVacsZzzSIfB",
        "colab": {
          "base_uri": "https://localhost:8080/"
        },
        "outputId": "f0cf15c3-a538-44a8-9843-abc30bc1f061"
      },
      "source": [
        "# Instead of grid search try randomsearchcv\n",
        "'''\n",
        "#parameter ranges \n",
        "param_grid = {'C': [0.1, 1, 10, 100]}  \n",
        "   \n",
        "grid = GridSearchCV(LinearSVC(), param_grid, refit = True, verbose = 3, n_jobs=-1) \n",
        "   \n",
        "# fitting the model for grid search \n",
        "grid.fit(X_train_tfidf,y_train) \n",
        " \n",
        "# print best parameter after tuning \n",
        "print(grid.best_params_) \n",
        "grid_predictions = grid.predict(X_test_tfidf) \n",
        "   \n",
        "# print classification report \n",
        "print(classification_report(y_test, grid_predictions))\n",
        "'''"
      ],
      "execution_count": null,
      "outputs": [
        {
          "output_type": "stream",
          "name": "stdout",
          "text": [
            "Fitting 5 folds for each of 4 candidates, totalling 20 fits\n"
          ]
        },
        {
          "output_type": "stream",
          "name": "stderr",
          "text": [
            "[Parallel(n_jobs=-1)]: Using backend LokyBackend with 2 concurrent workers.\n"
          ]
        }
      ]
    },
    {
      "cell_type": "code",
      "metadata": {
        "id": "LIZ6B7BoUK9S"
      },
      "source": [
        "print(confusion_matrix(y_test, y_pred))"
      ],
      "execution_count": null,
      "outputs": []
    },
    {
      "cell_type": "code",
      "metadata": {
        "id": "dMgZD6RLUg1C"
      },
      "source": [
        "svc_score"
      ],
      "execution_count": null,
      "outputs": []
    },
    {
      "cell_type": "code",
      "metadata": {
        "id": "TOSDfqshUndT"
      },
      "source": [
        "print(classification_report(y_test, y_pred))"
      ],
      "execution_count": null,
      "outputs": []
    },
    {
      "cell_type": "code",
      "metadata": {
        "id": "t2yza-Jl9wJL"
      },
      "source": [
        "'''\n",
        "pipe = Pipeline(steps = [(\"tfidf_vectorization\", TfidfVectorizer()), \"classifier\", LinearSVC()])\n",
        "\n",
        "param_grid = {'C': [0.1, 1, 10, 100]} \n",
        "scoring = {'AUC': 'roc_auc, 'Accuracy' : metrics.make_scorer(metrics.accuracy_score)}\n",
        "grid = GridSearchCV(estimator = pipe, param_grid = param_grid, cv = 10, refit = 'AUC', verbose = 3, n_jobs = -1, scoring = scoring, return_train_score = True) \n",
        "best_model = grid.fit() #fill in\n",
        "'''"
      ],
      "execution_count": null,
      "outputs": []
    }
  ]
}